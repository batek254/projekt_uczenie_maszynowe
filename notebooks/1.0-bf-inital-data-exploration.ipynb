{
 "metadata": {
  "language_info": {
   "codemirror_mode": {
    "name": "ipython",
    "version": 3
   },
   "file_extension": ".py",
   "mimetype": "text/x-python",
   "name": "python",
   "nbconvert_exporter": "python",
   "pygments_lexer": "ipython3",
   "version": "3.9.0-final"
  },
  "orig_nbformat": 2,
  "kernelspec": {
   "name": "python3",
   "display_name": "Python 3",
   "language": "python"
  }
 },
 "nbformat": 4,
 "nbformat_minor": 2,
 "cells": [
  {
   "cell_type": "code",
   "execution_count": 1,
   "metadata": {},
   "outputs": [],
   "source": [
    "#importing packages\n",
    "import pandas as pd\n",
    "import numpy as np\n",
    "import matplotlib.pyplot as plt"
   ]
  },
  {
   "cell_type": "code",
   "execution_count": 4,
   "metadata": {},
   "outputs": [],
   "source": [
    "#read dataset\n",
    "data = pd.read_csv('../data/processed/data_processed_nans.csv')"
   ]
  },
  {
   "cell_type": "code",
   "execution_count": 5,
   "metadata": {},
   "outputs": [
    {
     "output_type": "stream",
     "name": "stdout",
     "text": [
      "<class 'pandas.core.frame.DataFrame'>\nRangeIndex: 59400 entries, 0 to 59399\nData columns (total 24 columns):\n #   Column             Non-Null Count  Dtype  \n---  ------             --------------  -----  \n 0   Unnamed: 0         59400 non-null  int64  \n 1   id                 59400 non-null  int64  \n 2   status_group       59400 non-null  object \n 3   amount_tsh         59400 non-null  float64\n 4   gps_height         59400 non-null  int64  \n 5   longitude          59400 non-null  float64\n 6   latitude           59400 non-null  float64\n 7   basin              59400 non-null  object \n 8   region             59400 non-null  object \n 9   ward               59400 non-null  object \n 10  population         59400 non-null  int64  \n 11  public_meeting     56066 non-null  object \n 12  scheme_management  55523 non-null  object \n 13  permit             56344 non-null  object \n 14  construction_year  59400 non-null  int64  \n 15  extraction_type    59400 non-null  object \n 16  management         59400 non-null  object \n 17  payment            59400 non-null  object \n 18  payment_type       59400 non-null  object \n 19  water_quality      59400 non-null  object \n 20  quantity           59400 non-null  object \n 21  quantity_group     59400 non-null  object \n 22  source             59400 non-null  object \n 23  waterpoint_type    59400 non-null  object \ndtypes: float64(3), int64(5), object(16)\nmemory usage: 10.9+ MB\n"
     ]
    }
   ],
   "source": [
    "data.info()"
   ]
  },
  {
   "cell_type": "code",
   "execution_count": null,
   "metadata": {},
   "outputs": [],
   "source": []
  }
 ]
}