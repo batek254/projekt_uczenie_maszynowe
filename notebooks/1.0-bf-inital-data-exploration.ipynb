{
 "metadata": {
  "language_info": {
   "codemirror_mode": {
    "name": "ipython",
    "version": 3
   },
   "file_extension": ".py",
   "mimetype": "text/x-python",
   "name": "python",
   "nbconvert_exporter": "python",
   "pygments_lexer": "ipython3",
   "version": "3.9.0-final"
  },
  "orig_nbformat": 2,
  "kernelspec": {
   "name": "python3",
   "display_name": "Python 3",
   "language": "python"
  }
 },
 "nbformat": 4,
 "nbformat_minor": 2,
 "cells": [
  {
   "cell_type": "code",
   "execution_count": 7,
   "metadata": {},
   "outputs": [],
   "source": [
    "# importing packages\n",
    "import pandas as pd\n",
    "import numpy as np\n",
    "import matplotlib.pyplot as plt\n",
    "import seaborn as sns"
   ]
  },
  {
   "cell_type": "code",
   "execution_count": 4,
   "metadata": {},
   "outputs": [],
   "source": [
    "# read dataset\n",
    "data = pd.read_csv('../data/processed/data_processed_nans.csv')"
   ]
  },
  {
   "cell_type": "code",
   "execution_count": 5,
   "metadata": {},
   "outputs": [
    {
     "output_type": "execute_result",
     "data": {
      "text/plain": [
       "   Unnamed: 0     id    status_group  amount_tsh  gps_height  longitude  \\\n",
       "0           0  69572      functional      6000.0        1390  34.938093   \n",
       "1           1   8776      functional         0.0        1399  34.698766   \n",
       "2           2  34310      functional        25.0         686  37.460664   \n",
       "3           3  67743  non functional         0.0         263  38.486161   \n",
       "4           4  19728      functional         0.0           0  31.130847   \n",
       "\n",
       "    latitude                    basin   region        ward  ...  \\\n",
       "0  -9.856322               Lake Nyasa   Iringa    Mundindi  ...   \n",
       "1  -2.147466            Lake Victoria     Mara       Natta  ...   \n",
       "2  -3.821329                  Pangani  Manyara     Ngorika  ...   \n",
       "3 -11.155298  Ruvuma / Southern Coast   Mtwara    Nanyumbu  ...   \n",
       "4  -1.825359            Lake Victoria   Kagera  Nyakasimbi  ...   \n",
       "\n",
       "   construction_year extraction_type management         payment  payment_type  \\\n",
       "0               1999         gravity        vwc    pay annually      annually   \n",
       "1               2010         gravity        wug       never pay     never pay   \n",
       "2               2009         gravity        vwc  pay per bucket    per bucket   \n",
       "3               1986     submersible        vwc       never pay     never pay   \n",
       "4                  0         gravity      other       never pay     never pay   \n",
       "\n",
       "  water_quality      quantity quantity_group                source  \\\n",
       "0          soft        enough         enough                spring   \n",
       "1          soft  insufficient   insufficient  rainwater harvesting   \n",
       "2          soft        enough         enough                   dam   \n",
       "3          soft           dry            dry           machine dbh   \n",
       "4          soft      seasonal       seasonal  rainwater harvesting   \n",
       "\n",
       "               waterpoint_type  \n",
       "0           communal standpipe  \n",
       "1           communal standpipe  \n",
       "2  communal standpipe multiple  \n",
       "3  communal standpipe multiple  \n",
       "4           communal standpipe  \n",
       "\n",
       "[5 rows x 24 columns]"
      ],
      "text/html": "<div>\n<style scoped>\n    .dataframe tbody tr th:only-of-type {\n        vertical-align: middle;\n    }\n\n    .dataframe tbody tr th {\n        vertical-align: top;\n    }\n\n    .dataframe thead th {\n        text-align: right;\n    }\n</style>\n<table border=\"1\" class=\"dataframe\">\n  <thead>\n    <tr style=\"text-align: right;\">\n      <th></th>\n      <th>Unnamed: 0</th>\n      <th>id</th>\n      <th>status_group</th>\n      <th>amount_tsh</th>\n      <th>gps_height</th>\n      <th>longitude</th>\n      <th>latitude</th>\n      <th>basin</th>\n      <th>region</th>\n      <th>ward</th>\n      <th>...</th>\n      <th>construction_year</th>\n      <th>extraction_type</th>\n      <th>management</th>\n      <th>payment</th>\n      <th>payment_type</th>\n      <th>water_quality</th>\n      <th>quantity</th>\n      <th>quantity_group</th>\n      <th>source</th>\n      <th>waterpoint_type</th>\n    </tr>\n  </thead>\n  <tbody>\n    <tr>\n      <th>0</th>\n      <td>0</td>\n      <td>69572</td>\n      <td>functional</td>\n      <td>6000.0</td>\n      <td>1390</td>\n      <td>34.938093</td>\n      <td>-9.856322</td>\n      <td>Lake Nyasa</td>\n      <td>Iringa</td>\n      <td>Mundindi</td>\n      <td>...</td>\n      <td>1999</td>\n      <td>gravity</td>\n      <td>vwc</td>\n      <td>pay annually</td>\n      <td>annually</td>\n      <td>soft</td>\n      <td>enough</td>\n      <td>enough</td>\n      <td>spring</td>\n      <td>communal standpipe</td>\n    </tr>\n    <tr>\n      <th>1</th>\n      <td>1</td>\n      <td>8776</td>\n      <td>functional</td>\n      <td>0.0</td>\n      <td>1399</td>\n      <td>34.698766</td>\n      <td>-2.147466</td>\n      <td>Lake Victoria</td>\n      <td>Mara</td>\n      <td>Natta</td>\n      <td>...</td>\n      <td>2010</td>\n      <td>gravity</td>\n      <td>wug</td>\n      <td>never pay</td>\n      <td>never pay</td>\n      <td>soft</td>\n      <td>insufficient</td>\n      <td>insufficient</td>\n      <td>rainwater harvesting</td>\n      <td>communal standpipe</td>\n    </tr>\n    <tr>\n      <th>2</th>\n      <td>2</td>\n      <td>34310</td>\n      <td>functional</td>\n      <td>25.0</td>\n      <td>686</td>\n      <td>37.460664</td>\n      <td>-3.821329</td>\n      <td>Pangani</td>\n      <td>Manyara</td>\n      <td>Ngorika</td>\n      <td>...</td>\n      <td>2009</td>\n      <td>gravity</td>\n      <td>vwc</td>\n      <td>pay per bucket</td>\n      <td>per bucket</td>\n      <td>soft</td>\n      <td>enough</td>\n      <td>enough</td>\n      <td>dam</td>\n      <td>communal standpipe multiple</td>\n    </tr>\n    <tr>\n      <th>3</th>\n      <td>3</td>\n      <td>67743</td>\n      <td>non functional</td>\n      <td>0.0</td>\n      <td>263</td>\n      <td>38.486161</td>\n      <td>-11.155298</td>\n      <td>Ruvuma / Southern Coast</td>\n      <td>Mtwara</td>\n      <td>Nanyumbu</td>\n      <td>...</td>\n      <td>1986</td>\n      <td>submersible</td>\n      <td>vwc</td>\n      <td>never pay</td>\n      <td>never pay</td>\n      <td>soft</td>\n      <td>dry</td>\n      <td>dry</td>\n      <td>machine dbh</td>\n      <td>communal standpipe multiple</td>\n    </tr>\n    <tr>\n      <th>4</th>\n      <td>4</td>\n      <td>19728</td>\n      <td>functional</td>\n      <td>0.0</td>\n      <td>0</td>\n      <td>31.130847</td>\n      <td>-1.825359</td>\n      <td>Lake Victoria</td>\n      <td>Kagera</td>\n      <td>Nyakasimbi</td>\n      <td>...</td>\n      <td>0</td>\n      <td>gravity</td>\n      <td>other</td>\n      <td>never pay</td>\n      <td>never pay</td>\n      <td>soft</td>\n      <td>seasonal</td>\n      <td>seasonal</td>\n      <td>rainwater harvesting</td>\n      <td>communal standpipe</td>\n    </tr>\n  </tbody>\n</table>\n<p>5 rows × 24 columns</p>\n</div>"
     },
     "metadata": {},
     "execution_count": 5
    }
   ],
   "source": [
    "data.head()"
   ]
  },
  {
   "cell_type": "code",
   "execution_count": 6,
   "metadata": {},
   "outputs": [
    {
     "output_type": "stream",
     "name": "stdout",
     "text": [
      "<class 'pandas.core.frame.DataFrame'>\nRangeIndex: 59400 entries, 0 to 59399\nData columns (total 24 columns):\n #   Column             Non-Null Count  Dtype  \n---  ------             --------------  -----  \n 0   Unnamed: 0         59400 non-null  int64  \n 1   id                 59400 non-null  int64  \n 2   status_group       59400 non-null  object \n 3   amount_tsh         59400 non-null  float64\n 4   gps_height         59400 non-null  int64  \n 5   longitude          59400 non-null  float64\n 6   latitude           59400 non-null  float64\n 7   basin              59400 non-null  object \n 8   region             59400 non-null  object \n 9   ward               59400 non-null  object \n 10  population         59400 non-null  int64  \n 11  public_meeting     56066 non-null  object \n 12  scheme_management  55523 non-null  object \n 13  permit             56344 non-null  object \n 14  construction_year  59400 non-null  int64  \n 15  extraction_type    59400 non-null  object \n 16  management         59400 non-null  object \n 17  payment            59400 non-null  object \n 18  payment_type       59400 non-null  object \n 19  water_quality      59400 non-null  object \n 20  quantity           59400 non-null  object \n 21  quantity_group     59400 non-null  object \n 22  source             59400 non-null  object \n 23  waterpoint_type    59400 non-null  object \ndtypes: float64(3), int64(5), object(16)\nmemory usage: 10.9+ MB\n"
     ]
    }
   ],
   "source": [
    "data.info()"
   ]
  },
  {
   "cell_type": "code",
   "execution_count": null,
   "metadata": {},
   "outputs": [],
   "source": [
    "# nans\n",
    "sns.heatmap(data.isnull(), cbar=False)\n",
    "plt.show()"
   ]
  },
  {
   "cell_type": "code",
   "execution_count": null,
   "metadata": {},
   "outputs": [],
   "source": []
  }
 ]
}